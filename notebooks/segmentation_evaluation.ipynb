{
 "cells": [
  {
   "cell_type": "code",
   "execution_count": null,
   "metadata": {},
   "outputs": [],
   "source": [
    "import monai.metrics as metrics\n",
    "import torch\n",
    "\n",
    "from src.data_modules.segmentation_data_module import CbisDdsmDataModuleSegmentation\n",
    "from src.models.segmentation_model import SegmentationModel\n",
    "from tqdm import tqdm"
   ]
  },
  {
   "cell_type": "code",
   "execution_count": 54,
   "metadata": {},
   "outputs": [],
   "source": [
    "datamodule = CbisDdsmDataModuleSegmentation(\n",
    "    root_dir=\"data/cbis-ddsm-segme\",\n",
    "    tumor_type=\"mass\",\n",
    "    batch_size=8,\n",
    "    num_workers=4,\n",
    ")"
   ]
  },
  {
   "cell_type": "code",
   "execution_count": 55,
   "metadata": {},
   "outputs": [],
   "source": [
    "checkpoint = \"models/mass-segmentation.ckpt\"\n",
    "model = SegmentationModel.load_from_checkpoint(checkpoint, map_location=\"cpu\")\n",
    "model = model.eval()"
   ]
  },
  {
   "cell_type": "markdown",
   "metadata": {},
   "source": [
    "### Dice Score and Intersection over Union (IoU)\n",
    "\n",
    "#### Dice Score\n",
    "\n",
    "The Dice Score, also known as the Dice Similarity Coefficient (DSC), is a metric used to evaluate the similarity between two sets, commonly used in image segmentation tasks. It measures the overlap between the predicted segmentation and the ground truth. The Dice Score is defined as:\n",
    "\n",
    "$$\\text{Dice Score} = \\frac{2 \\cdot |A \\cap B|}{|A| + |B|}$$\n",
    "\n",
    "Where:\n",
    "- $A$ is the set of predicted pixels (or regions).\n",
    "- $B$ is the set of ground truth pixels (or regions).\n",
    "\n",
    "The Dice Score ranges from 0 to 1:\n",
    "- A score of 1 indicates perfect overlap.\n",
    "- A score of 0 indicates no overlap.\n",
    "\n",
    "#### Intersection over Union (IoU)\n",
    "\n",
    "Intersection over Union (IoU), also known as the Jaccard Index, is another metric used to evaluate the accuracy of image segmentation. It measures the ratio of the intersection to the union of the predicted segmentation and the ground truth. IoU is defined as:\n",
    "\n",
    "$$\\text{IoU} = \\frac{|A \\cap B|}{|A \\cup B|}$$\n",
    "\n",
    "Where:\n",
    "- $A$ is the set of predicted pixels (or regions).\n",
    "- $B$ is the set of ground truth pixels (or regions).\n",
    "\n",
    "The IoU also ranges from 0 to 1:\n",
    "- A score of 1 indicates perfect overlap.\n",
    "- A score of 0 indicates no overlap.\n",
    "\n",
    "#### Comparison\n",
    "\n",
    "Both Dice Score and IoU are widely used in segmentation tasks, but they differ slightly in their sensitivity to false positives and false negatives. The Dice Score tends to give more weight to the overlap, while IoU provides a stricter measure of similarity. These metrics are often used together to provide a comprehensive evaluation of segmentation performance."
   ]
  },
  {
   "cell_type": "code",
   "execution_count": 61,
   "metadata": {},
   "outputs": [
    {
     "name": "stderr",
     "output_type": "stream",
     "text": [
      "100%|██████████| 231/231 [02:41<00:00,  1.43it/s]"
     ]
    },
    {
     "name": "stdout",
     "output_type": "stream",
     "text": [
      "Dice Score: 0.7969831824302673\n",
      "IoU Score: 0.6748219132423401\n"
     ]
    },
    {
     "name": "stderr",
     "output_type": "stream",
     "text": [
      "\n"
     ]
    }
   ],
   "source": [
    "test_dataloader = datamodule.test_dataloader()\n",
    "\n",
    "# Initialize metrics\n",
    "dice_metric = metrics.DiceMetric(reduction=\"mean\")\n",
    "iou_metric = metrics.MeanIoU(reduction=\"mean\")\n",
    "\n",
    "# Evaluate metrics\n",
    "for images, masks in tqdm(test_dataloader):\n",
    "    with torch.no_grad():\n",
    "        predictions = model(images)\n",
    "\n",
    "    predictions = torch.argmax(predictions, dim=1)\n",
    "\n",
    "    y_pred = predictions.unsqueeze(1)\n",
    "    y_true = torch.argmax(masks, dim=1).unsqueeze(1)\n",
    "\n",
    "    dice_metric(y_pred, y_true)\n",
    "    iou_metric(y_pred, y_true)\n",
    "\n",
    "# Compute Dice Score\n",
    "dice_score = dice_metric.aggregate().item()\n",
    "\n",
    "# Compute IoU Score\n",
    "iou_score = iou_metric.aggregate().item()\n",
    "\n",
    "print(\"Dice Score:\", dice_score)\n",
    "print(\"IoU Score:\", iou_score)"
   ]
  },
  {
   "cell_type": "markdown",
   "metadata": {},
   "source": [
    "### Model Evaluation\n",
    "\n",
    "#### Performance Metrics\n",
    "\n",
    "The evaluation of our segmentation model is based on the above described metrics. These metrics provide insights into the model's ability to accurately segment mass tumors.\n",
    "\n",
    "- **Dice Score**: 0.8\n",
    "    The Dice Score indicates a high degree of overlap between the predicted segmentation and the ground truth. A score of 0.8 suggests that the model performs well in capturing the target regions with minimal false positives and false negatives.\n",
    "\n",
    "- **IoU**: 0.7\n",
    "    The IoU score of 0.7 demonstrates that the model achieves a strong balance between precision and recall, effectively identifying the intersection of predicted and ground truth regions relative to their union.\n",
    "\n",
    "#### Conclusion\n",
    "\n",
    "The model's performance, with a Dice Score of 0.8 and an IoU of 0.7, reflects a robust segmentation capability. These results indicate that the model is well-suited for the task and can be considered reliable for practical applications. However, further fine-tuning or additional data may help improve the performance even further and the oversight of a medical professional is highly recommended."
   ]
  }
 ],
 "metadata": {
  "kernelspec": {
   "display_name": ".venv",
   "language": "python",
   "name": "python3"
  },
  "language_info": {
   "codemirror_mode": {
    "name": "ipython",
    "version": 3
   },
   "file_extension": ".py",
   "mimetype": "text/x-python",
   "name": "python",
   "nbconvert_exporter": "python",
   "pygments_lexer": "ipython3",
   "version": "3.12.3"
  }
 },
 "nbformat": 4,
 "nbformat_minor": 2
}
