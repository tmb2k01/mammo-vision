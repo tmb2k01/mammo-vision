{
 "cells": [
  {
   "cell_type": "code",
   "execution_count": null,
   "metadata": {},
   "outputs": [],
   "source": [
    "import os\n",
    "import sys\n",
    "\n",
    "import matplotlib.pyplot as plt\n",
    "import torch\n",
    "\n",
    "sys.path.append(os.path.abspath(os.path.join(os.getcwd(), \"..\")))\n",
    "sys.path.append(os.path.abspath(os.path.join(os.getcwd(), \"../src\")))\n",
    "\n",
    "from src.data_modules.segmentation_data_module import (\n",
    "    CbisDdsmDataModuleSegmentation as SegmentationDataModule,\n",
    ")\n",
    "from src.models.segmentation_model import SegmentationModel"
   ]
  },
  {
   "cell_type": "code",
   "execution_count": null,
   "metadata": {},
   "outputs": [],
   "source": [
    "datamodule = SegmentationDataModule(\n",
    "    root_dir=\"../data/cbis-ddsm-segme\", tumor_type=\"mass\", batch_size=1, num_workers=4\n",
    ")"
   ]
  },
  {
   "cell_type": "code",
   "execution_count": null,
   "metadata": {},
   "outputs": [],
   "source": [
    "for batch in datamodule.train_dataloader():\n",
    "    x, y = batch[0][0], batch[1][0]\n",
    "\n",
    "    image = x.squeeze().numpy()\n",
    "    mask = y.squeeze().numpy()\n",
    "\n",
    "    fig, axes = plt.subplots(1, 2, figsize=(10, 5))\n",
    "    axes[0].imshow(image, cmap=\"gray\")\n",
    "    axes[1].imshow(mask[1], cmap=\"gray\")\n",
    "\n",
    "    plt.show()\n",
    "    break"
   ]
  },
  {
   "cell_type": "code",
   "execution_count": null,
   "metadata": {},
   "outputs": [],
   "source": [
    "model = SegmentationModel(weight_path=\"../models/mass-segmentation.ckpt\")"
   ]
  },
  {
   "cell_type": "code",
   "execution_count": null,
   "metadata": {},
   "outputs": [],
   "source": [
    "# Get a validation batch\n",
    "for batch in datamodule.val_dataloader():\n",
    "    x, y = batch\n",
    "    x, y = x[0], y[0]\n",
    "\n",
    "    # Prepare image and mask for visualization\n",
    "    image = x.squeeze().numpy()\n",
    "    mask = y.squeeze().numpy()\n",
    "\n",
    "    # Get model predictions\n",
    "    model.eval()\n",
    "    with torch.no_grad():\n",
    "        prediction = model(x.unsqueeze(0).to(model.device))\n",
    "        prediction = torch.argmax(prediction, dim=1)\n",
    "        prediction = prediction.squeeze().numpy()\n",
    "\n",
    "    # Plot results\n",
    "    fig, axes = plt.subplots(1, 3, figsize=(12, 4))\n",
    "    axes[0].imshow(image, cmap=\"gray\")\n",
    "    axes[0].set_title(\"Image\")\n",
    "    axes[1].imshow(mask[1], cmap=\"gray\")\n",
    "    axes[1].set_title(\"Ground Truth Mask\")\n",
    "    axes[2].imshow(prediction, cmap=\"gray\")\n",
    "    axes[2].set_title(\"Model Prediction\")\n",
    "    plt.show()\n",
    "\n",
    "    break"
   ]
  }
 ],
 "metadata": {
  "kernelspec": {
   "display_name": "Python 3",
   "language": "python",
   "name": "python3"
  },
  "language_info": {
   "codemirror_mode": {
    "name": "ipython",
    "version": 3
   },
   "file_extension": ".py",
   "mimetype": "text/x-python",
   "name": "python",
   "nbconvert_exporter": "python",
   "pygments_lexer": "ipython3",
   "version": "3.10.12"
  }
 },
 "nbformat": 4,
 "nbformat_minor": 2
}
