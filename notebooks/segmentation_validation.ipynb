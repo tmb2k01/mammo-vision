{
 "cells": [
  {
   "cell_type": "code",
   "execution_count": null,
   "metadata": {},
   "outputs": [],
   "source": [
    "import matplotlib.pyplot as plt\n",
    "import torch\n",
    "\n",
    "from src.data_modules.segmentation_data_module import CbisDdsmDataModuleSegmentation\n",
    "from src.models.segmentation_model import SegmentationModel"
   ]
  },
  {
   "cell_type": "code",
   "execution_count": null,
   "metadata": {},
   "outputs": [],
   "source": [
    "datamodule = CbisDdsmDataModuleSegmentation(\n",
    "    root_dir=\"data/cbis-ddsm-segme\",\n",
    "    tumor_type=\"mass\",\n",
    "    batch_size=1,\n",
    "    num_workers=4,\n",
    ")"
   ]
  },
  {
   "cell_type": "code",
   "execution_count": null,
   "metadata": {},
   "outputs": [],
   "source": [
    "for batch in datamodule.train_dataloader():\n",
    "    x, y = batch[0][0], batch[1][0]\n",
    "\n",
    "    image = x.squeeze().numpy()\n",
    "    mask = y.squeeze().numpy()\n",
    "\n",
    "    fig, axes = plt.subplots(1, 2, figsize=(10, 5))\n",
    "    axes[0].imshow(image, cmap=\"gray\")\n",
    "    axes[1].imshow(mask[1], cmap=\"gray\")\n",
    "\n",
    "    plt.show()\n",
    "    break"
   ]
  },
  {
   "cell_type": "code",
   "execution_count": null,
   "metadata": {},
   "outputs": [],
   "source": [
    "model = SegmentationModel(weight_path=\"models/mass-segmentation.ckpt\")"
   ]
  },
  {
   "cell_type": "code",
   "execution_count": null,
   "metadata": {},
   "outputs": [],
   "source": [
    "model.eval()\n",
    "\n",
    "for idx, batch in enumerate(datamodule.test_dataloader()):\n",
    "    if idx % 5 != 0:\n",
    "        continue\n",
    "\n",
    "    x, y = batch\n",
    "\n",
    "    # Get model predictions\n",
    "    with torch.no_grad():\n",
    "        prediction = torch.softmax(model(x.to(model.device)), dim=1)\n",
    "        prediction = torch.argmax(prediction, dim=1)\n",
    "        prediction = torch.squeeze(prediction).numpy()\n",
    "\n",
    "    # Plot results\n",
    "    image = torch.squeeze(x).numpy()\n",
    "    mask = torch.squeeze(y).numpy()\n",
    "    fig, axes = plt.subplots(1, 3, figsize=(12, 4))\n",
    "    axes[0].imshow(image, cmap=\"gray\")\n",
    "    axes[0].set_title(\"Image\")\n",
    "    axes[1].imshow(mask[1], cmap=\"gray\")\n",
    "    axes[1].set_title(\"Ground Truth\")\n",
    "    axes[2].imshow(prediction, cmap=\"gray\")\n",
    "    axes[2].set_title(\"Prediction\")\n",
    "    plt.show()\n",
    "\n",
    "    if idx == 10:\n",
    "        break"
   ]
  }
 ],
 "metadata": {
  "kernelspec": {
   "display_name": ".venv",
   "language": "python",
   "name": "python3"
  },
  "language_info": {
   "codemirror_mode": {
    "name": "ipython",
    "version": 3
   },
   "file_extension": ".py",
   "mimetype": "text/x-python",
   "name": "python",
   "nbconvert_exporter": "python",
   "pygments_lexer": "ipython3",
   "version": "3.12.3"
  }
 },
 "nbformat": 4,
 "nbformat_minor": 2
}
