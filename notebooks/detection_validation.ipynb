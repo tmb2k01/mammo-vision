{
 "cells": [
  {
   "cell_type": "code",
   "execution_count": null,
   "metadata": {},
   "outputs": [],
   "source": [
    "import os\n",
    "import sys\n",
    "\n",
    "import matplotlib.pyplot as plt\n",
    "import matplotlib.patches as patches\n",
    "import torch\n",
    "\n",
    "sys.path.append(os.path.abspath(os.path.join(os.getcwd(), \"..\")))\n",
    "sys.path.append(os.path.abspath(os.path.join(os.getcwd(), \"../src\")))\n",
    "\n",
    "from src.data_modules.detection_data_module import (\n",
    "    CbisDdsmDataModuleDetection as DetectionDataModule,\n",
    ")\n",
    "from src.models.detection_model import DetectionModel"
   ]
  },
  {
   "cell_type": "code",
   "execution_count": null,
   "metadata": {},
   "outputs": [],
   "source": [
    "datamodule = DetectionDataModule(\n",
    "    root_dir=\"../data/cbis-ddsm-detec\", tumor_type=\"mass\", batch_size=1, num_workers=4\n",
    ")"
   ]
  },
  {
   "cell_type": "code",
   "execution_count": null,
   "metadata": {},
   "outputs": [],
   "source": [
    "for batch in datamodule.train_dataloader():\n",
    "    x, y = batch[0][0], batch[1][0]\n",
    "\n",
    "    image = x.squeeze().numpy()\n",
    "\n",
    "    fig, ax = plt.subplots(1)\n",
    "    ax.imshow(image, cmap=\"gray\")\n",
    "\n",
    "    boxes = y[\"boxes\"]\n",
    "    for i in range(0, len(boxes)):\n",
    "        xmin, ymin = boxes[i][0], boxes[i][1]\n",
    "        xmax, ymax = boxes[i][2], boxes[i][3]\n",
    "\n",
    "        rect = patches.Rectangle(\n",
    "            (xmin, ymin),\n",
    "            xmax - xmin,\n",
    "            ymax - ymin,\n",
    "            linewidth=1,\n",
    "            edgecolor=\"r\",\n",
    "            facecolor=\"none\",\n",
    "        )\n",
    "\n",
    "        ax.add_patch(rect)\n",
    "\n",
    "    plt.show()\n",
    "    break"
   ]
  },
  {
   "cell_type": "code",
   "execution_count": null,
   "metadata": {},
   "outputs": [],
   "source": [
    "model = DetectionModel(weight_path=\"../models/mass-detection.ckpt\")"
   ]
  },
  {
   "cell_type": "code",
   "execution_count": null,
   "metadata": {},
   "outputs": [],
   "source": [
    "# Get a test batch\n",
    "for batch in datamodule.test_dataloader():\n",
    "    x, y = batch[0][0], batch[1][0]\n",
    "\n",
    "    # Prepare the image\n",
    "    image = x.squeeze().numpy()\n",
    "\n",
    "    # Get ground truth boxes\n",
    "    ground_truth_boxes = y[\"boxes\"]\n",
    "\n",
    "    # Get model predictions\n",
    "    model.eval()\n",
    "    with torch.no_grad():\n",
    "        predictions = model(x.unsqueeze(0))\n",
    "    print(predictions)\n",
    "    confidence_threshold = 0.5\n",
    "    predicted_boxes = predictions[0][\"boxes\"][\n",
    "        predictions[0][\"scores\"] > confidence_threshold\n",
    "    ]\n",
    "\n",
    "    # Plot the image\n",
    "    fig, ax = plt.subplots(1)\n",
    "    ax.imshow(image, cmap=\"gray\")\n",
    "\n",
    "    # Plot ground truth boxes in green\n",
    "    for box in ground_truth_boxes:\n",
    "        xmin, ymin, xmax, ymax = box\n",
    "        rect = patches.Rectangle(\n",
    "            (xmin, ymin),\n",
    "            xmax - xmin,\n",
    "            ymax - ymin,\n",
    "            linewidth=2,\n",
    "            edgecolor=\"g\",\n",
    "            facecolor=\"none\",\n",
    "            label=\"Ground Truth\",\n",
    "        )\n",
    "        ax.add_patch(rect)\n",
    "\n",
    "    # Plot predicted boxes in blue\n",
    "    for box in predicted_boxes:\n",
    "        xmin, ymin, xmax, ymax = box\n",
    "        rect = patches.Rectangle(\n",
    "            (xmin, ymin),\n",
    "            xmax - xmin,\n",
    "            ymax - ymin,\n",
    "            linewidth=2,\n",
    "            edgecolor=\"b\",\n",
    "            facecolor=\"none\",\n",
    "            label=\"Prediction\",\n",
    "        )\n",
    "        ax.add_patch(rect)\n",
    "\n",
    "    plt.legend(\n",
    "        handles=[\n",
    "            patches.Patch(color=\"green\", label=\"Ground Truth\"),\n",
    "            patches.Patch(color=\"blue\", label=\"Prediction\"),\n",
    "        ]\n",
    "    )\n",
    "    plt.show()\n",
    "    break"
   ]
  }
 ],
 "metadata": {
  "kernelspec": {
   "display_name": "Python 3",
   "language": "python",
   "name": "python3"
  },
  "language_info": {
   "codemirror_mode": {
    "name": "ipython",
    "version": 3
   },
   "file_extension": ".py",
   "mimetype": "text/x-python",
   "name": "python",
   "nbconvert_exporter": "python",
   "pygments_lexer": "ipython3",
   "version": "3.10.12"
  }
 },
 "nbformat": 4,
 "nbformat_minor": 2
}
